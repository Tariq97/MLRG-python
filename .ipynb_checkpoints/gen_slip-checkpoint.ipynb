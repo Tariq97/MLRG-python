{
 "cells": [
  {
   "cell_type": "code",
   "execution_count": 13,
   "metadata": {},
   "outputs": [
    {
     "name": "stdin",
     "output_type": "stream",
     "text": [
      "Once deleted, variables cannot be recovered. Proceed (y/[n])?  y\n"
     ]
    }
   ],
   "source": [
    "%reset\n",
    "import sys\n",
    "import numpy as np\n",
    "import pickle\n",
    "from SSlipReal import *"
   ]
  },
  {
   "cell_type": "code",
   "execution_count": 14,
   "metadata": {},
   "outputs": [
    {
     "ename": "ImportError",
     "evalue": "module SpecSyn2 not in sys.modules",
     "output_type": "error",
     "traceback": [
      "\u001b[0;31m---------------------------------------------------------------------------\u001b[0m",
      "\u001b[0;31mImportError\u001b[0m                               Traceback (most recent call last)",
      "Cell \u001b[0;32mIn[14], line 4\u001b[0m\n\u001b[1;32m      2\u001b[0m \u001b[38;5;28;01mimport\u001b[39;00m \u001b[38;5;21;01mSpecSyn2\u001b[39;00m\n\u001b[1;32m      3\u001b[0m \u001b[38;5;28;01mfrom\u001b[39;00m \u001b[38;5;21;01mSpecSyn2\u001b[39;00m \u001b[38;5;28;01mimport\u001b[39;00m \u001b[38;5;241m*\u001b[39m\n\u001b[0;32m----> 4\u001b[0m \u001b[43mreload\u001b[49m\u001b[43m(\u001b[49m\u001b[43mSpecSyn2\u001b[49m\u001b[43m)\u001b[49m\n",
      "File \u001b[0;32m~/miniforge3/envs/Pycheck/lib/python3.10/importlib/__init__.py:148\u001b[0m, in \u001b[0;36mreload\u001b[0;34m(module)\u001b[0m\n\u001b[1;32m    146\u001b[0m \u001b[38;5;28;01mif\u001b[39;00m sys\u001b[38;5;241m.\u001b[39mmodules\u001b[38;5;241m.\u001b[39mget(name) \u001b[38;5;129;01mis\u001b[39;00m \u001b[38;5;129;01mnot\u001b[39;00m module:\n\u001b[1;32m    147\u001b[0m     msg \u001b[38;5;241m=\u001b[39m \u001b[38;5;124m\"\u001b[39m\u001b[38;5;124mmodule \u001b[39m\u001b[38;5;132;01m{}\u001b[39;00m\u001b[38;5;124m not in sys.modules\u001b[39m\u001b[38;5;124m\"\u001b[39m\n\u001b[0;32m--> 148\u001b[0m     \u001b[38;5;28;01mraise\u001b[39;00m \u001b[38;5;167;01mImportError\u001b[39;00m(msg\u001b[38;5;241m.\u001b[39mformat(name), name\u001b[38;5;241m=\u001b[39mname)\n\u001b[1;32m    149\u001b[0m \u001b[38;5;28;01mif\u001b[39;00m name \u001b[38;5;129;01min\u001b[39;00m _RELOADING:\n\u001b[1;32m    150\u001b[0m     \u001b[38;5;28;01mreturn\u001b[39;00m _RELOADING[name]\n",
      "\u001b[0;31mImportError\u001b[0m: module SpecSyn2 not in sys.modules"
     ]
    }
   ],
   "source": [
    "from importlib import reload\n",
    "import SpecSyn2\n",
    "from SpecSyn2 import *\n",
    "reload(SpecSyn2)"
   ]
  },
  {
   "cell_type": "code",
   "execution_count": 10,
   "metadata": {},
   "outputs": [
    {
     "name": "stdout",
     "output_type": "stream",
     "text": [
      "<class 'int'>\n"
     ]
    },
    {
     "ename": "NameError",
     "evalue": "name 'kx' is not defined",
     "output_type": "error",
     "traceback": [
      "\u001b[0;31m---------------------------------------------------------------------------\u001b[0m",
      "\u001b[0;31mNameError\u001b[0m                                 Traceback (most recent call last)",
      "Cell \u001b[0;32mIn[10], line 12\u001b[0m\n\u001b[1;32m      9\u001b[0m seed \u001b[38;5;241m=\u001b[39m \u001b[38;5;241m1\u001b[39m\n\u001b[1;32m     10\u001b[0m samp \u001b[38;5;241m=\u001b[39m [\u001b[38;5;241m200\u001b[39m,\u001b[38;5;241m200\u001b[39m]\n\u001b[0;32m---> 12\u001b[0m G,spar \u001b[38;5;241m=\u001b[39m \u001b[43mSpecSyn2\u001b[49m\u001b[43m(\u001b[49m\u001b[43m[\u001b[49m\u001b[43mW\u001b[49m\u001b[38;5;241;43m*\u001b[39;49m\u001b[38;5;241;43m1000\u001b[39;49m\u001b[43m,\u001b[49m\u001b[43m \u001b[49m\u001b[43mL\u001b[49m\u001b[38;5;241;43m*\u001b[39;49m\u001b[38;5;241;43m1000\u001b[39;49m\u001b[43m]\u001b[49m\u001b[43m,\u001b[49m\u001b[43msamp\u001b[49m\u001b[43m,\u001b[49m\u001b[43mcorr\u001b[49m\u001b[43m,\u001b[49m\u001b[43macf\u001b[49m\u001b[43m,\u001b[49m\u001b[43mseed\u001b[49m\u001b[43m)\u001b[49m\n",
      "File \u001b[0;32m~/Miscellaneous/MLRG-python/SpecSyn2.py:149\u001b[0m, in \u001b[0;36mSpecSyn2\u001b[0;34m(*args)\u001b[0m\n\u001b[1;32m    147\u001b[0m             kr[i,j] \u001b[38;5;241m=\u001b[39m np\u001b[38;5;241m.\u001b[39msqrt((kz[i]\u001b[38;5;241m*\u001b[39m\u001b[38;5;241m*\u001b[39m\u001b[38;5;241m2\u001b[39m) \u001b[38;5;241m+\u001b[39m (kx[j]\u001b[38;5;241m*\u001b[39m\u001b[38;5;241m*\u001b[39m\u001b[38;5;241m2\u001b[39m))\n\u001b[1;32m    148\u001b[0m         \u001b[38;5;28;01melse\u001b[39;00m:\n\u001b[0;32m--> 149\u001b[0m             kr[i,j] \u001b[38;5;241m=\u001b[39m np\u001b[38;5;241m.\u001b[39msqrt((az\u001b[38;5;241m*\u001b[39m\u001b[38;5;241m*\u001b[39m\u001b[38;5;241m2\u001b[39m)\u001b[38;5;241m*\u001b[39m(kz[i]\u001b[38;5;241m*\u001b[39m\u001b[38;5;241m*\u001b[39m\u001b[38;5;241m2\u001b[39m) \u001b[38;5;241m+\u001b[39m (ax\u001b[38;5;241m*\u001b[39m\u001b[38;5;241m*\u001b[39m\u001b[38;5;241m2\u001b[39m)\u001b[38;5;241m*\u001b[39m(\u001b[43mkx\u001b[49m[j]\u001b[38;5;241m*\u001b[39m\u001b[38;5;241m*\u001b[39m\u001b[38;5;241m2\u001b[39m))\n\u001b[1;32m    151\u001b[0m  \u001b[38;5;66;03m# calculate power spectral density, depending on selected ACF\u001b[39;00m\n\u001b[1;32m    152\u001b[0m \u001b[38;5;28;01mif\u001b[39;00m acf \u001b[38;5;241m==\u001b[39m \u001b[38;5;124m'\u001b[39m\u001b[38;5;124mgs\u001b[39m\u001b[38;5;124m'\u001b[39m \u001b[38;5;129;01mor\u001b[39;00m acf \u001b[38;5;241m==\u001b[39m \u001b[38;5;124m'\u001b[39m\u001b[38;5;124mGS\u001b[39m\u001b[38;5;124m'\u001b[39m:\n",
      "\u001b[0;31mNameError\u001b[0m: name 'kx' is not defined"
     ]
    }
   ],
   "source": [
    "import numpy as np\n",
    "import math\n",
    "\n",
    "\n",
    "W = 14; L = 30; Mw = 6.5\n",
    "mech = 'ss'\n",
    "acf = 'ak'\n",
    "corr = np.array([4000, 4000, 0.77])\n",
    "seed = 1\n",
    "samp = [200,200]\n",
    "\n",
    "G,spar = SpecSyn2([W*1000, L*1000],samp,corr,acf,seed)\n"
   ]
  },
  {
   "cell_type": "code",
   "execution_count": 90,
   "metadata": {},
   "outputs": [],
   "source": [
    "# Use specsyn to generate field and then use slip_from_specsyn to generate truncated exponential slip.!! \n",
    "N = [14000, 30000]\n",
    "samp = [200,200]\n",
    "nptsX = round(N[1]/samp[1])  #% number of grid-points in X\n",
    "nptsZ = round(N[0]/samp[0])  #% number of grid-points in Z\n",
    "   \n",
    "if np.mod(nptsX,2) == 0: rmx = nptsX/2\n",
    "elif np.mod(nptsX,2) != 0: rmx = (nptsX-1)/2\n",
    "    \n",
    "if np.mod(nptsZ,2) == 0: rmz = nptsZ/2\n",
    "elif np.mod(nptsZ,2) != 0: rmz = (nptsZ-1)/2\n",
    "\n",
    "rmx = int(rmx)\n",
    "rmz = int(rmz)\n",
    "    \n",
    "# # compose power spectrum for two of the four quadrants\n",
    "# # wavenumber vector in [-pi,pi]\n",
    "# kx = (rmx/((2*rmx+1)*samp[1]))*np.linspace(-2*np.pi,2*np.pi,2*rmx+1)\n",
    "# kz = (rmz/((2*rmz+1)*samp[0]))*np.linspace(-2*np.pi,2*np.pi,2*rmz+1)\n",
    "  "
   ]
  },
  {
   "cell_type": "code",
   "execution_count": 91,
   "metadata": {},
   "outputs": [],
   "source": [
    "kx = (rmx/((2*rmx+1)*samp[1]))*np.linspace(-2*np.pi,2*np.pi,2*rmx+1)"
   ]
  },
  {
   "cell_type": "code",
   "execution_count": null,
   "metadata": {},
   "outputs": [],
   "source": [
    "#slip,par,per=SSlipReal(srcpar,mech,acf,corr,seed,samp,grd,nexp,wlevel,taper,depth,dip,fig,outfile)"
   ]
  }
 ],
 "metadata": {
  "kernelspec": {
   "display_name": "Python 3 (ipykernel)",
   "language": "python",
   "name": "python3"
  },
  "language_info": {
   "codemirror_mode": {
    "name": "ipython",
    "version": 3
   },
   "file_extension": ".py",
   "mimetype": "text/x-python",
   "name": "python",
   "nbconvert_exporter": "python",
   "pygments_lexer": "ipython3",
   "version": "3.10.16"
  }
 },
 "nbformat": 4,
 "nbformat_minor": 4
}
