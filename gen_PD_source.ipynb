{
 "cells": [
  {
   "cell_type": "code",
   "execution_count": 216,
   "metadata": {},
   "outputs": [],
   "source": [
    "# Created by Tariq Anwar Aquib,2024, KAUST\n",
    "# tariqanwar.aquib@kaust.edu.sa\n",
    "\n",
    "%reset\n",
    "import numpy as np\n",
    "import matplotlib.pyplot as plt\n",
    "%matplotlib inline\n",
    "from importlib import reload\n",
    "\n",
    "import get_slip_and_hyp\n",
    "import get_Vr_PSV\n",
    "import Calibrate_KinParams\n",
    "import Compute_Yoffe_and_ML_STF\n",
    "import plot_mtf_rate\n",
    "\n",
    "reload(get_slip_and_hyp)\n",
    "reload(get_Vr_PSV)\n",
    "reload(Calibrate_KinParams)\n",
    "reload(Compute_Yoffe_and_ML_STF)\n",
    "reload(plot_mtf_rate)\n",
    "\n",
    "from get_slip_and_hyp import *\n",
    "from get_Vr_PSV import *\n",
    "from Calibrate_KinParams import *\n",
    "from Compute_Yoffe_and_ML_STF import *\n",
    "from plot_mtf_rate import *\n",
    "\n"
   ]
  },
  {
   "cell_type": "code",
   "execution_count": 217,
   "metadata": {},
   "outputs": [],
   "source": [
    "# Input parameters for MLRG\n",
    "\n",
    "W = 15; L = 30; Mw = 6.5       # Width, Length and Magnitude\n",
    "mech = 'ss'                     # Mechanism                            \n",
    "acf = 'ak'                      # ACF\n",
    "corr = np.array([5, 5, 0.77])   # Correlation lengths for slip [az, ax, H]\n",
    "seed = []                       # Seed for slip\n",
    "samp = np.array([0.2,0.2])      # Sampling in km\n",
    "\n",
    "taper_width=[1,1,1]             # Taper width in km  [left/right, top bottom]\n",
    "taper_window = 'hn'\n",
    "\n",
    "Vr_mean = 2.25                  # Mean rupture velocity\n",
    "SP_ratio = 2                    # Ratio of Max slip and Max Vmax on the fault; See Aquib et al., (2024)"
   ]
  },
  {
   "cell_type": "code",
   "execution_count": 218,
   "metadata": {},
   "outputs": [],
   "source": [
    "### Slip and hypocenter location\n",
    "\n",
    "slip, slip_taper, hypo_x, hypo_z, hyp_prob = get_slip_and_hyp(Mw,mech,[W,L],corr,samp,acf,seed,taper_width,taper_window)\n",
    "\n",
    "\n",
    "lx = np.linspace(0,L,slip.shape[1])\n",
    "lz = np.linspace(0,W,slip.shape[0])\n",
    "\n",
    "#### If any other hypocenter is desired then specify here below:::\n",
    "# hypo_x is from left end and hypo_z is from top.\n",
    "\n",
    "# hypo_x = 25 # uncomment to specify a different hypocenter\n",
    "# hypo_z = 5\n",
    "\n",
    "\n",
    "\n"
   ]
  },
  {
   "cell_type": "code",
   "execution_count": 219,
   "metadata": {},
   "outputs": [],
   "source": [
    "#### Computing other kinematic rupture parameters....\n",
    "\n",
    "\n",
    "vr, psv, X2, Y2, crack_length = get_Vr_PSV(slip,hypo_x,hypo_z,lx,lz,samp)\n",
    "\n",
    "vr = vr.numpy()\n",
    "psv = psv.numpy()\n",
    "\n",
    "hyp_ind_x = np.where(lx==hypo_x)[0]\n",
    "hyp_ind_z = np.where(lz==hypo_z)[0]\n",
    "\n",
    "hyp_nd = np.array([hyp_ind_z[0], hyp_ind_x[0]])\n",
    "\n"
   ]
  },
  {
   "cell_type": "code",
   "execution_count": 220,
   "metadata": {},
   "outputs": [
    {
     "data": {
      "text/plain": [
       "array([43, 93])"
      ]
     },
     "execution_count": 220,
     "metadata": {},
     "output_type": "execute_result"
    }
   ],
   "source": [
    "hyp_nd"
   ]
  },
  {
   "cell_type": "code",
   "execution_count": null,
   "metadata": {},
   "outputs": [
    {
     "name": "stdout",
     "output_type": "stream",
     "text": [
      "Yoffe STFs computed\n",
      "First ML STFs computed\n",
      "Modifying 0 STFs out of 11325\n"
     ]
    }
   ],
   "source": [
    "### Calibrating Vr\n",
    "vr_new = Calibrate_Vr(vr,Vr_mean,0,6)\n",
    "\n",
    "## Computing T_onset using raytracing\n",
    "\n",
    "# t_onset = compute_onset_times(vr_new,hyp_nd,samp[0])\n",
    "\n",
    "t_onset = compute_onset_times_scikit(vr_new,hyp_nd,samp[0])\n",
    "# Calibrating Vmax\n",
    "psv_ratio_new = Calibrate_Vmax_ratio(slip,psv,SP_ratio) # Give slip in cm\n",
    "\n",
    "psv1 = (slip_taper/100)/psv_ratio_new\n",
    "a_psv = 0.01; b_psv = np.max(psv)\n",
    "\n",
    "psv2 = Calibrate_Vmax(psv1,a_psv,b_psv)\n",
    "\n",
    "# Computing Tr\n",
    "Tacc_ratio = 0.1\n",
    "Tr_eff = Compute_Tr(psv2,slip_taper/100,Tacc_ratio=Tacc_ratio)\n",
    "Tacc = Tr_eff*Tacc_ratio\n",
    "\n",
    "# Computing STFs and modified STFs based on ML\n",
    "# slip_rate_ml0 is without Andrews (2005) condition\n",
    "# slip_rate_ml1 is with Andrews (2005) condition\n",
    "\n",
    "slip_time, slip_rate_yoffe, slip_rate_ml0, slip_rate_ml1, Tr_new0, Vmax_new0, Tr_new1, Vmax_new1 = Compute_Yoffe_and_ML_STF(slip_taper/100,vr,X2,Y2,crack_length,t_onset,Tr_eff,Tacc_ratio,t_end=20,num_pts=501)\n",
    "\n"
   ]
  },
  {
   "cell_type": "code",
   "execution_count": null,
   "metadata": {},
   "outputs": [],
   "source": [
    "## Plot kinematic parameters without Andrews (2005) condition\n",
    "\n",
    "graph1, (plot1, plot2) = plt.subplots(1, 2)\n",
    "\n",
    "ax = plot1.imshow(np.flipud(slip_taper),cmap='turbo',extent =[lx.min(), \n",
    "                                      lx.max(), \n",
    "                                      lz.min(), \n",
    "                                      lz.max()], clim=(0,np.max(slip_taper)))\n",
    "levels = np.array([0,1,2,3,4,5,6,7,8])\n",
    "plot1.set_title('Slip')\n",
    "plot1.scatter(hypo_x,hypo_z,100,c='w',marker='*',edgecolors='k')\n",
    "plot1.yaxis.set_inverted(True)\n",
    "\n",
    "graph1.colorbar(ax,shrink=0.25) \n",
    "\n",
    "ax= plot2.imshow(np.flipud(vr_new),cmap='turbo',extent =[lx.min(), \n",
    "                                      lx.max(), \n",
    "                                      lz.min(), \n",
    "                                      lz.max()], clim=(0,5))\n",
    "plot2.yaxis.set_inverted(True)\n",
    "plot2.scatter(hypo_x,hypo_z,100,c='w',marker='*',edgecolors='k')\n",
    "CS = plot2.contour(lx,lz,t_onset, levels,colors=['black'],linewidths=0.75)\n",
    "plot2.clabel(CS)\n",
    "plot2.set_title('Rupture velocity')\n",
    "graph1.colorbar(ax,shrink=0.25)\n",
    "\n",
    "# Tr and PSV\n",
    "\n",
    "graph1, (plot1, plot2) = plt.subplots(1, 2)\n",
    "\n",
    "ax = plot1.imshow(np.flipud(Vmax_new0),cmap='turbo',extent =[lx.min(), \n",
    "                                      lx.max(), \n",
    "                                      lz.min(), \n",
    "                                      lz.max()], clim=(0,np.max(Vmax_new0)))\n",
    "plot1.set_title('Peak slip velocity')\n",
    "graph1.colorbar(ax,shrink=0.25) \n",
    "plot1.yaxis.set_inverted(True)\n",
    "\n",
    "ax = plot2.imshow(np.flipud(Tr_new0),cmap='turbo',extent =[lx.min(), \n",
    "                                      lx.max(), \n",
    "                                      lz.min(), \n",
    "                                      lz.max()], clim=(0,np.max(Tr_new0)))\n",
    "plot2.set_title('Rise time')\n",
    "graph1.colorbar(ax,shrink=0.25) \n",
    "plot2.yaxis.set_inverted(True)\n",
    "\n",
    "## MTF and spectra\n",
    "\n",
    "plot_mtf_rate(slip_time,slip_rate_yoffe,slip_rate_ml0,samp)\n",
    "\n"
   ]
  },
  {
   "cell_type": "code",
   "execution_count": null,
   "metadata": {},
   "outputs": [],
   "source": [
    "## Plot kinematic parameters with Andrews (2005) condition; IF no STFs are modified then it similar to previous figure;\n",
    "\n",
    "graph1, (plot1, plot2) = plt.subplots(1, 2)\n",
    "\n",
    "ax = plot1.imshow(np.flipud(slip_taper),cmap='turbo',extent =[lx.min(), \n",
    "                                      lx.max(), \n",
    "                                      lz.min(), \n",
    "                                      lz.max()], clim=(0,np.max(slip_taper)))\n",
    "levels = np.array([0,1,2,3,4,5,6,7,8,9,10,11,12,13])\n",
    "plot1.set_title('Slip')\n",
    "plot1.scatter(hypo_x,hypo_z,100,c='w',marker='*',edgecolors='k')\n",
    "plot1.yaxis.set_inverted(True)\n",
    "\n",
    "graph1.colorbar(ax,shrink=0.25) \n",
    "\n",
    "ax= plot2.imshow(np.flipud(vr_new),cmap='turbo',extent =[lx.min(), \n",
    "                                      lx.max(), \n",
    "                                      lz.min(), \n",
    "                                      lz.max()], clim=(0,5))\n",
    "plot2.yaxis.set_inverted(True)\n",
    "plot2.scatter(hypo_x,hypo_z,100,c='w',marker='*',edgecolors='k')\n",
    "CS = plot2.contour(lx,lz,t_onset, levels,colors=['black'],linewidths=0.75)\n",
    "plot2.clabel(CS)\n",
    "plot2.set_title('Rupture velocity')\n",
    "graph1.colorbar(ax,shrink=0.25)\n",
    "\n",
    "# Tr and PSV\n",
    "\n",
    "graph1, (plot1, plot2) = plt.subplots(1, 2)\n",
    "\n",
    "ax = plot1.imshow(np.flipud(Vmax_new1),cmap='turbo',extent =[lx.min(), \n",
    "                                      lx.max(), \n",
    "                                      lz.min(), \n",
    "                                      lz.max()], clim=(0,np.max(Vmax_new1)))\n",
    "plot1.set_title('Peak slip velocity')\n",
    "graph1.colorbar(ax,shrink=0.25) \n",
    "plot1.yaxis.set_inverted(True)\n",
    "\n",
    "ax = plot2.imshow(np.flipud(Tr_new1),cmap='turbo',extent =[lx.min(), \n",
    "                                      lx.max(), \n",
    "                                      lz.min(), \n",
    "                                      lz.max()], clim=(0,np.max(Tr_new0)))\n",
    "plot2.set_title('Rise time')\n",
    "graph1.colorbar(ax,shrink=0.25) \n",
    "plot2.yaxis.set_inverted(True)\n",
    "\n",
    "## MTF and spectra\n",
    "\n",
    "plot_mtf_rate(slip_time,slip_rate_yoffe,slip_rate_ml1,samp)\n",
    "\n"
   ]
  },
  {
   "cell_type": "code",
   "execution_count": null,
   "metadata": {},
   "outputs": [],
   "source": []
  },
  {
   "cell_type": "code",
   "execution_count": 197,
   "metadata": {},
   "outputs": [],
   "source": []
  },
  {
   "cell_type": "code",
   "execution_count": null,
   "metadata": {},
   "outputs": [],
   "source": [
    "\n"
   ]
  },
  {
   "cell_type": "code",
   "execution_count": 199,
   "metadata": {},
   "outputs": [],
   "source": [
    "### save this \n",
    "\n",
    "# params = { 'slip_ml':slip, 'slip':slip_taper,  'vr':vr, 'vr_new':vr_new , 't_onset1':t_onset, 'hyp_ind':hyp_nd, 'psv': psv, 'psv2': psv2, 'Tr':Tr_eff,'slip_rate':slip_rate,\n",
    "#           'slip_rate_norm':slip_rate_norm, 'stf2':stf2, 'X':X2, 'Y':Y2, 'crack_length':crack_length, 'meta_data':meta_data}\n",
    "\n",
    "# scipy.io.savemat('./kin_field.mat', {'params':params})"
   ]
  },
  {
   "cell_type": "code",
   "execution_count": null,
   "metadata": {},
   "outputs": [],
   "source": []
  }
 ],
 "metadata": {
  "kernelspec": {
   "display_name": "MLRG",
   "language": "python",
   "name": "python3"
  },
  "language_info": {
   "codemirror_mode": {
    "name": "ipython",
    "version": 3
   },
   "file_extension": ".py",
   "mimetype": "text/x-python",
   "name": "python",
   "nbconvert_exporter": "python",
   "pygments_lexer": "ipython3",
   "version": "3.9.21"
  }
 },
 "nbformat": 4,
 "nbformat_minor": 2
}
